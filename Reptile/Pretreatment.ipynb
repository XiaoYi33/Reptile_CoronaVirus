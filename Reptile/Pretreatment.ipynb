{
 "cells": [
  {
   "cell_type": "code",
   "execution_count": 1,
   "metadata": {
    "scrolled": true,
    "pycharm": {
     "name": "#%%\n"
    }
   },
   "outputs": [],
   "source": [
    "import pandas as pd\n",
    "import xlwt\n",
    "import numpy as np\n",
    "from scipy import stats\n",
    "import matplotlib.pyplot as plt\n",
    "import seaborn as sns\n",
    "from sklearn.preprocessing import MinMaxScaler, StandardScaler\n",
    "\n",
    "# 获取源数据\n",
    "data = pd.read_excel('data/corona_virus.xls',index_col=0)\n"
   ]
  },
  {
   "cell_type": "code",
   "execution_count": 2,
   "metadata": {
    "pycharm": {
     "name": "#%%\n"
    }
   },
   "outputs": [
    {
     "name": "stdout",
     "output_type": "stream",
     "text": [
      "<class 'pandas.core.frame.DataFrame'>\n",
      "Index: 214 entries, 法国 to 南非\n",
      "Data columns (total 8 columns):\n",
      " #   Column                 Non-Null Count  Dtype  \n",
      "---  ------                 --------------  -----  \n",
      " 0   confirmedCount         214 non-null    int64  \n",
      " 1   currentConfirmedCount  214 non-null    int64  \n",
      " 2   curedCount             214 non-null    int64  \n",
      " 3   deadCount              214 non-null    int64  \n",
      " 4   deadRate               214 non-null    float64\n",
      " 5   deadRateRank           214 non-null    int64  \n",
      " 6   confirmedCountRank     214 non-null    int64  \n",
      " 7   deadCountRank          214 non-null    int64  \n",
      "dtypes: float64(1), int64(7)\n",
      "memory usage: 15.0+ KB\n",
      "None \n",
      "\n"
     ]
    }
   ],
   "source": [
    "#查看有无缺失值\n",
    "print(data.info(), '\\n')"
   ]
  },
  {
   "cell_type": "code",
   "execution_count": 3,
   "metadata": {
    "pycharm": {
     "name": "#%%\n"
    }
   },
   "outputs": [
    {
     "name": "stdout",
     "output_type": "stream",
     "text": [
      "       confirmedCount  currentConfirmedCount    curedCount     deadCount  \\\n",
      "count    2.140000e+02           2.140000e+02  2.140000e+02  2.140000e+02   \n",
      "mean     3.021510e+06           1.156810e+06  1.984045e+06  3.123777e+04   \n",
      "std      9.437636e+06           4.408084e+06  8.313567e+06  1.062549e+05   \n",
      "min      1.770000e+02           0.000000e+00  0.000000e+00  0.000000e+00   \n",
      "25%      3.844775e+04           5.400500e+03  1.126825e+04  3.000000e+02   \n",
      "50%      2.585425e+05           3.756500e+04  1.317610e+05  2.790000e+03   \n",
      "75%      1.375864e+06           2.979212e+05  6.079252e+05  1.667500e+04   \n",
      "max      1.009061e+08           3.748769e+07  9.832055e+07  1.106990e+06   \n",
      "\n",
      "         deadRate  deadRateRank  confirmedCountRank  deadCountRank  \n",
      "count  214.000000    214.000000          214.000000     214.000000  \n",
      "mean     1.338832    107.070093          107.500000     107.453271  \n",
      "std      1.603597     61.786090           61.920648      61.876791  \n",
      "min      0.000000      1.000000            1.000000       1.000000  \n",
      "25%      0.485000     54.250000           54.250000      54.250000  \n",
      "50%      0.920000    107.500000          107.500000     106.000000  \n",
      "75%      1.805000    160.750000          160.750000     160.750000  \n",
      "max     18.070000    214.000000          214.000000     214.000000  \n"
     ]
    }
   ],
   "source": [
    "#查看数据特征\n",
    "print(data.describe())"
   ]
  },
  {
   "cell_type": "code",
   "execution_count": 4,
   "metadata": {
    "pycharm": {
     "name": "#%%\n"
    }
   },
   "outputs": [
    {
     "name": "stdout",
     "output_type": "stream",
     "text": [
      "[[0.38 1.   0.   ... 0.79 0.01 0.04]\n",
      " [0.36 0.86 0.04 ... 0.78 0.01 0.05]\n",
      " [0.27 0.72 0.   ... 0.95 0.02 0.15]\n",
      " ...\n",
      " [0.   0.   0.   ... 1.   0.99 1.  ]\n",
      " [0.01 0.   0.   ... 0.02 0.41 0.19]\n",
      " [0.04 0.   0.36 ... 0.08 0.17 0.08]]\n"
     ]
    }
   ],
   "source": [
    "#归一化处理\n",
    "normalization_data=MinMaxScaler().fit_transform(data)\n",
    "normalization_data=[[round(j,2) for j in normalization_data[i]] for i in range(len(normalization_data))]\n",
    "normalization_data=np.array(normalization_data)\n",
    "\n",
    "print(normalization_data)"
   ]
  },
  {
   "cell_type": "code",
   "execution_count": 5,
   "metadata": {
    "pycharm": {
     "name": "#%%\n"
    }
   },
   "outputs": [
    {
     "data": {
      "text/plain": [
       "provinceName\n",
       "法国         A\n",
       "德国         A\n",
       "韩国         A\n",
       "意大利        A\n",
       "英国         A\n",
       "          ..\n",
       "格陵兰        D\n",
       "英属维尔京群岛    D\n",
       "福克兰群岛      D\n",
       "埃及         B\n",
       "南非         A\n",
       "Name: confirmedCount1, Length: 214, dtype: category\n",
       "Categories (4, object): [D < C < B < A]"
      ]
     },
     "execution_count": 5,
     "metadata": {},
     "output_type": "execute_result"
    }
   ],
   "source": [
    "#四分位数离散化\n",
    "labels=['D','C','B','A']\n",
    "data['confirmedCount1']=pd.qcut(data['confirmedCount'],4,labels=labels)\n",
    "data['confirmedCount1']"
   ]
  },
  {
   "cell_type": "code",
   "execution_count": null,
   "metadata": {
    "pycharm": {
     "name": "#%%\n"
    }
   },
   "outputs": [],
   "source": []
  }
 ],
 "metadata": {
  "kernelspec": {
   "display_name": "Python 3",
   "language": "python",
   "name": "python3"
  },
  "language_info": {
   "codemirror_mode": {
    "name": "ipython",
    "version": 3
   },
   "file_extension": ".py",
   "mimetype": "text/x-python",
   "name": "python",
   "nbconvert_exporter": "python",
   "pygments_lexer": "ipython3",
   "version": "3.8.3"
  }
 },
 "nbformat": 4,
 "nbformat_minor": 4
}